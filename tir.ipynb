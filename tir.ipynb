{
 "cells": [
  {
   "cell_type": "code",
   "execution_count": 377,
   "metadata": {},
   "outputs": [],
   "source": [
    "from dash import Dash, html, dcc, dash_table\n",
    "from dash.exceptions import PreventUpdate\n",
    "from dash.dependencies import Input, Output, State\n",
    "import plotly.express as px\n",
    "import pandas as pd\n",
    "import numpy as np\n",
    "import requests\n",
    "from jupyter_dash import JupyterDash\n",
    "import datetime\n",
    "from pyxirr import xirr\n",
    "\n",
    "app = JupyterDash(__name__)"
   ]
  },
  {
   "cell_type": "code",
   "execution_count": 378,
   "metadata": {},
   "outputs": [],
   "source": [
    "post_data = {\"idEspecie\": \"48454\"}\n",
    "data_json = requests.post(\"https://www.iamc.com.ar/Financial/GetEspecieTablaDatosRelacionados\", data=post_data).json()[\"EspecieFlujoFondosList\"]\n",
    "df_flujo = pd.DataFrame(data_json)"
   ]
  },
  {
   "cell_type": "code",
   "execution_count": 379,
   "metadata": {},
   "outputs": [],
   "source": [
    "app.layout = html.Div([\n",
    "    html.Div(id=\"table-div\"),\n",
    "    dcc.Dropdown(\n",
    "        options=[\n",
    "        {'label': 'AE38', 'value': 48461},\n",
    "        {'label': 'TX26', 'value': 48454},\n",
    "        ],\n",
    "        value=48461,\n",
    "        id=\"bonos-dropdown\"\n",
    "    ),\n",
    "    html.Div(id=\"tir-div\"),\n",
    "    html.Div(dcc.Input(id='input-on-submit', type='number', value=30)),\n",
    "    html.Button('Submit', id='submit-val', n_clicks=0),\n",
    "])\n",
    "\n",
    "data_json = None\n",
    "df_flujo = None\n",
    "df_tir  = None\n",
    "\n",
    "@app.callback(\n",
    "    Output(\"table-div\", \"children\"),\n",
    "    Input(\"bonos-dropdown\", \"value\"),\n",
    ")\n",
    "def update_options(search_value):\n",
    "    if not search_value:\n",
    "        raise PreventUpdate\n",
    "\n",
    "    post_data = {\"idEspecie\": search_value}\n",
    "    data_json = requests.post(\"https://www.iamc.com.ar/Financial/GetEspecieTablaDatosRelacionados\", data=post_data).json()[\"EspecieFlujoFondosList\"]\n",
    "    df_flujo = pd.DataFrame(data_json)\n",
    "    df_flujo.drop(df_flujo.tail(1).index,inplace=True)\n",
    "\n",
    "    df_tir = pd.DataFrame(columns=[\"Fecha\", \"Flujo\"])\n",
    "    df_tir[\"Fecha\"] = pd.to_datetime(df_flujo[\"FechaPago\"], format=\"%d/%m/%Y\")\n",
    "    df_tir[\"Flujo\"] = df_flujo[\"CashFlow\"]\n",
    "    \n",
    "    return dash_table.DataTable(df_flujo.to_dict('records'), [{\"name\": i, \"id\": i} for i in df_flujo.columns], id=\"tabla\", page_size=10)\n",
    "\n",
    "@app.callback(\n",
    "    Output(\"tir-div\", \"children\"),\n",
    "    Input('submit-val', 'n_clicks'),\n",
    "    State('input-on-submit', 'value')\n",
    ")\n",
    "def update_output(n_clicks, precio):\n",
    "    df_calculo = df_tir\n",
    "    df_calculo.loc[-1] = [datetime.datetime.today(), -precio]\n",
    "    # df_calculo.index = df_calculo.index + 1\n",
    "    # df_calculo = df_tir.sort_index()\n",
    "\n",
    "    # tir = \"La tir es :\" + str(xirr(df_calculo)*100) + \" %\"\n",
    "    return precio #\"La tir es :\" + str(xirr(df_tir)*100) + \" %\"\n",
    "\n",
    "\n"
   ]
  },
  {
   "cell_type": "code",
   "execution_count": 380,
   "metadata": {},
   "outputs": [
    {
     "data": {
      "text/html": [
       "\n",
       "        <iframe\n",
       "            width=\"100%\"\n",
       "            height=\"650\"\n",
       "            src=\"http://127.0.0.1:8050/\"\n",
       "            frameborder=\"0\"\n",
       "            allowfullscreen\n",
       "            \n",
       "        ></iframe>\n",
       "        "
      ],
      "text/plain": [
       "<IPython.lib.display.IFrame at 0x273b807ff40>"
      ]
     },
     "metadata": {},
     "output_type": "display_data"
    }
   ],
   "source": [
    "app.run_server(mode='inline')"
   ]
  }
 ],
 "metadata": {
  "kernelspec": {
   "display_name": ".env",
   "language": "python",
   "name": "python3"
  },
  "language_info": {
   "codemirror_mode": {
    "name": "ipython",
    "version": 3
   },
   "file_extension": ".py",
   "mimetype": "text/x-python",
   "name": "python",
   "nbconvert_exporter": "python",
   "pygments_lexer": "ipython3",
   "version": "3.9.6"
  },
  "orig_nbformat": 4
 },
 "nbformat": 4,
 "nbformat_minor": 2
}
